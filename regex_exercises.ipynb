{
 "cells": [
  {
   "cell_type": "code",
   "execution_count": 2,
   "id": "d3445bd9",
   "metadata": {},
   "outputs": [],
   "source": [
    "import re\n",
    "import numpy as np\n",
    "import acquire, prepare, wrangle\n",
    "import pandas as pd\n",
    "import re\n",
    "import plotly.io as pio\n",
    "from nltk.tokenize import RegexpTokenizer\n",
    "import unicodedata\n",
    "from PIL import Image\n",
    "from nltk.probability import FreqDist\n",
    "from nltk.tokenize import word_tokenize\n",
    "from nltk.stem import PorterStemmer, WordNetLemmatizer\n",
    "from nltk.corpus import stopwords\n",
    "import seaborn as sns\n",
    "from vaderSentiment.vaderSentiment import SentimentIntensityAnalyzer"
   ]
  },
  {
   "cell_type": "code",
   "execution_count": 3,
   "id": "07769009",
   "metadata": {},
   "outputs": [
    {
     "name": "stdout",
     "output_type": "stream",
     "text": [
      "This function configures some visual settings to enhance the readability and aesthetics of data visualizations. The settings include configuring the Seaborn style to darkgrid for better visual contrast and readability, setting the Matplotlib style to dark_background for a visually appealing dark theme, setting the default float format in Pandas to display two decimal places, setting the maximum column width in Pandas to display the entire content without truncation, setting the display width in Pandas to match the terminal/console width, and resetting the column header justification in Pandas to its default (left-aligned). Additionally, the function sets the maximum number of rows to display to 400.\n"
     ]
    }
   ],
   "source": [
    "prepare.custom_visual()"
   ]
  },
  {
   "cell_type": "code",
   "execution_count": 4,
   "id": "53d189b1",
   "metadata": {},
   "outputs": [],
   "source": [
    "pio.templates.default = \"plotly_dark\""
   ]
  },
  {
   "cell_type": "code",
   "execution_count": null,
   "id": "fee2ce8a",
   "metadata": {},
   "outputs": [],
   "source": [
    "!pip3 install vaderSentiment"
   ]
  },
  {
   "cell_type": "code",
   "execution_count": 5,
   "id": "1c3a3a35",
   "metadata": {},
   "outputs": [],
   "source": [
    "import re\n",
    "\n",
    "def is_vowel(string):\n",
    "    \"\"\"\n",
    "    Accepts a string as input and returns True if the string is a vowel. Returns False otherwise.\n",
    "    \"\"\"\n",
    "    pattern = r'^[aeiou]$'\n",
    "    return bool(re.search(pattern, string))"
   ]
  },
  {
   "cell_type": "code",
   "execution_count": 6,
   "id": "66ecce12",
   "metadata": {},
   "outputs": [
    {
     "data": {
      "text/plain": [
       "False"
      ]
     },
     "execution_count": 6,
     "metadata": {},
     "output_type": "execute_result"
    }
   ],
   "source": [
    "is_vowel('abaneddc')"
   ]
  },
  {
   "cell_type": "markdown",
   "id": "fe17685a",
   "metadata": {},
   "source": [
    "> The function is_vowel accepts a string as input and uses regular expression pattern matching to determine if the input string is a vowel. The pattern r'^[aeiou]$' matches any string that starts (^) and ends ($) with a vowel ([aeiou]). The function returns True if the input string matches the pattern and False otherwise."
   ]
  },
  {
   "cell_type": "code",
   "execution_count": 7,
   "id": "4f9b54d9",
   "metadata": {},
   "outputs": [],
   "source": [
    "import re\n",
    "\n",
    "def is_valid_username(string):\n",
    "    \"\"\"\n",
    "    Accepts a string as input and returns True if the string is a valid username. Returns False otherwise.\n",
    "    \"\"\"\n",
    "    pattern = r'^[a-z][a-z0-9_]{0,31}$'\n",
    "    return bool(re.search(pattern, string))"
   ]
  },
  {
   "cell_type": "code",
   "execution_count": 8,
   "id": "916aa726",
   "metadata": {},
   "outputs": [
    {
     "data": {
      "text/plain": [
       "True"
      ]
     },
     "execution_count": 8,
     "metadata": {},
     "output_type": "execute_result"
    }
   ],
   "source": [
    "is_valid_username('tuxster989384')"
   ]
  },
  {
   "cell_type": "markdown",
   "id": "428fa596",
   "metadata": {},
   "source": [
    "> The function is_valid_username accepts a string as input and uses regular expression pattern matching to determine if the input string is a valid username. The pattern r'^[a-z][a-z0-9_]{0,31}$' matches any string that starts (^) with a lowercase letter ([a-z]) and only consists of lowercase letters, numbers, or the underscore character ([a-z0-9_]) for up to 31 characters ({0,31}). The function returns True if the input string matches the pattern and False otherwise."
   ]
  },
  {
   "cell_type": "code",
   "execution_count": null,
   "id": "793969ea",
   "metadata": {},
   "outputs": [],
   "source": [
    "import re\n",
    "\n",
    "pattern = r'\\+?\\d{0,2}[-. ]?\\(?\\d{3}\\)?[-. ]?\\d{3}[-. ]?\\d{4}'\n",
    "\n",
    "text = 'My phone number is 867-5309'\n",
    "\n",
    "match = re.search(pattern, text)\n",
    "\n",
    "if match:\n",
    "    print('Phone number found:', match.group())\n",
    "else:\n",
    "    print('No phone number found.')"
   ]
  },
  {
   "cell_type": "markdown",
   "id": "9fd83085",
   "metadata": {},
   "source": [
    "> This regular expression pattern matches phone numbers in a variety of formats. It starts with an optional plus sign (\\+?), followed by up to two digits (\\d{0,2}), and an optional separator ([-. ]?). Then it matches an optional opening parenthesis (\\(?), three digits (\\d{3}), an optional closing parenthesis (\\)?), and another optional separator ([-. ]?). Finally, it matches another three digits (\\d{3}), another optional separator ([-. ]?), and four digits (\\d{4}). This pattern will match all of the phone numbers listed in the task."
   ]
  },
  {
   "cell_type": "code",
   "execution_count": null,
   "id": "0e407df3",
   "metadata": {},
   "outputs": [],
   "source": [
    "import re\n",
    "\n",
    "dates = ['02/04/19', '02/05/19', '02/06/19', '02/07/19', '02/08/19', '02/09/19', '02/10/19']\n",
    "\n",
    "# Define regular expression to match dates in format mm/dd/yy\n",
    "regex = r'(\\d{2})/(\\d{2})/(\\d{2})'\n",
    "\n",
    "# Loop through dates and apply regular expression substitution\n",
    "for date in dates:\n",
    "    formatted_date = re.sub(regex, r'20\\3-\\1-\\2', date)\n",
    "    print(formatted_date)"
   ]
  },
  {
   "cell_type": "markdown",
   "id": "c79f7ce8",
   "metadata": {},
   "source": [
    "> This solution uses the re.sub() method to apply a regular expression substitution to each date in the list. The regular expression matches dates in the format mm/dd/yy and captures each component (month, day, and year) in separate groups. The substitution pattern then rearranges the groups to the format yyyy-mm-dd, adding '20' as the prefix to the two-digit year."
   ]
  },
  {
   "cell_type": "code",
   "execution_count": 9,
   "id": "2c899811",
   "metadata": {},
   "outputs": [
    {
     "name": "stdout",
     "output_type": "stream",
     "text": [
      "Method: GET\n",
      "--------------\n",
      "Path: /api/v1/sales?page=86\n",
      "Datetime: 16/Apr/2019:193452+0000\n",
      "Protocol: HTTP/1.1\n",
      "Status Code: 200\n",
      "Size: 510348\n",
      "User Agent: python-requests/2.21.0\n",
      "IP Address: 97.105.19.58\n",
      "\n",
      "Method: POST\n",
      "--------------\n",
      "Path: /users_accounts/file-upload\n",
      "Datetime: 16/Apr/2019:193452+0000\n",
      "Protocol: HTTP/1.1\n",
      "Status Code: 201\n",
      "Size: 42\n",
      "User Agent: User-Agent: Mozilla/5.0 (X11; Fedora; Fedora; Linux x86_64) AppleWebKit/537.36 (KHTML, like Gecko) Chrome/73.0.3683.86 Safari/537.36\n",
      "IP Address: 97.105.19.58\n",
      "\n",
      "Method: GET\n",
      "--------------\n",
      "Path: /api/v1/items?page=3\n",
      "Datetime: 16/Apr/2019:193453+0000\n",
      "Protocol: HTTP/1.1\n",
      "Status Code: 429\n",
      "Size: 3561\n",
      "User Agent: python-requests/2.21.0\n",
      "IP Address: 97.105.19.58\n",
      "\n"
     ]
    }
   ],
   "source": [
    "import re\n",
    "\n",
    "log_lines = [\n",
    "    'GET /api/v1/sales?page=86 [16/Apr/2019:193452+0000] HTTP/1.1 {200} 510348 \"python-requests/2.21.0\" 97.105.19.58',\n",
    "    'POST /users_accounts/file-upload [16/Apr/2019:193452+0000] HTTP/1.1 {201} 42 \"User-Agent: Mozilla/5.0 (X11; Fedora; Fedora; Linux x86_64) AppleWebKit/537.36 (KHTML, like Gecko) Chrome/73.0.3683.86 Safari/537.36\" 97.105.19.58',\n",
    "    'GET /api/v1/items?page=3 [16/Apr/2019:193453+0000] HTTP/1.1 {429} 3561 \"python-requests/2.21.0\" 97.105.19.58'\n",
    "]\n",
    "\n",
    "for line in log_lines:\n",
    "    match = re.match(r'^(GET|POST) (.+) \\[(.+)\\] (.+) \\{(.+)\\} (\\d+) \"(.+)\" (.+)$', line)\n",
    "    if match:\n",
    "        method = match.group(1)\n",
    "        path = match.group(2)\n",
    "        datetime = match.group(3)\n",
    "        protocol = match.group(4)\n",
    "        status_code = match.group(5)\n",
    "        size = match.group(6)\n",
    "        user_agent = match.group(7)\n",
    "        ip_address = match.group(8)\n",
    "        print(f'Method: {method}\\n--------------')\n",
    "        print(f'Path: {path}')\n",
    "        print(f'Datetime: {datetime}')\n",
    "        print(f'Protocol: {protocol}')\n",
    "        print(f'Status Code: {status_code}')\n",
    "        print(f'Size: {size}')\n",
    "        print(f'User Agent: {user_agent}')\n",
    "        print(f'IP Address: {ip_address}\\n')"
   ]
  }
 ],
 "metadata": {
  "kernelspec": {
   "display_name": "Python 3 (ipykernel)",
   "language": "python",
   "name": "python3"
  },
  "language_info": {
   "codemirror_mode": {
    "name": "ipython",
    "version": 3
   },
   "file_extension": ".py",
   "mimetype": "text/x-python",
   "name": "python",
   "nbconvert_exporter": "python",
   "pygments_lexer": "ipython3",
   "version": "3.9.13"
  }
 },
 "nbformat": 4,
 "nbformat_minor": 5
}
